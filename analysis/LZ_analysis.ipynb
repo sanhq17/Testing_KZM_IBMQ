{
 "cells": [
  {
   "cell_type": "markdown",
   "id": "20736f0f",
   "metadata": {},
   "source": [
    "# Landau-Zener Model Simulation in IBMQ\n",
    "\n",
    "### Abstract\n",
    "This notebook presents the time evolution simulation of a qubit according to the Landau Zener (LZ) Hamiltonian on a real IBM Quantum Computer. Time evolution is discretized by performing small finite evolutions and the experimental probabilities of the $|0\\rangle$ state are measured for a given qubit as a function of the simulation time.\n",
    "\n",
    "### Introduction\n"
   ]
  },
  {
   "cell_type": "markdown",
   "id": "9ba0a84f",
   "metadata": {},
   "source": [
    "### Useful Imports"
   ]
  },
  {
   "cell_type": "code",
   "execution_count": 1,
   "id": "8d459905",
   "metadata": {},
   "outputs": [],
   "source": [
    "import numpy as np\n",
    "import matplotlib.pyplot as plt\n",
    "import scipy.linalg\n",
    "import csv\n",
    "import qiskit\n",
    "from qiskit import *\n",
    "from qiskit.tools.monitor import job_monitor\n",
    "from IPython.display import clear_output\n",
    "import itertools"
   ]
  },
  {
   "cell_type": "markdown",
   "id": "dce58bba",
   "metadata": {},
   "source": [
    "### IBMQ Setup"
   ]
  },
  {
   "cell_type": "code",
   "execution_count": 2,
   "id": "e9f921a9",
   "metadata": {},
   "outputs": [],
   "source": [
    "IBMQ.load_account(); # Load IBM Qiskit Account\n",
    "provider = IBMQ.get_provider('ibm-q') # IBM provider"
   ]
  },
  {
   "cell_type": "markdown",
   "id": "b6a378ff",
   "metadata": {},
   "source": [
    "### LZ Hamiltonian\n",
    "\n",
    "The LZ Hamiltonian expressed in terms of the $\\{|0\\rangle,|1\\rangle\\}$ basis is\n",
    "\n",
    "$$\\hat{H} = -\\frac{\\varepsilon(t)}{2}\\hat{\\sigma}_z - \\frac{\\Delta}{2}\\hat{\\sigma}_x$$\n",
    "\n",
    "where $\\varepsilon(t) = t/t_a$ and $\\Delta$ is the energy bandgap at the avoided level crossing at $t=0$. The following figure shows the inverse of the instantaneous energy gap of this Hamiltonian in time and inset are the two energy levels of the system. The diabatic states $|0\\rangle$ and $|1\\rangle$ are eigenstates of the Hamiltonian at $t\\to\\pm\\infty$.\n",
    "\n",
    "\n",
    "<img src=\"KZM_1.png\" alt=\"Drawing\" style=\"width: 400px;\"/>\n",
    "\n",
    "\n",
    "The adiabatic theorem states that while the energy bandgap is big enough, the system will approximately remain on the instantaneous eigenstate of the Hamiltonian. Near the avoided level crossing at $t=0$, the system undergoes significant LZ transitions as a consequence of the inverse of the energy gap reaching a maximum."
   ]
  },
  {
   "cell_type": "code",
   "execution_count": 3,
   "id": "a9074e40",
   "metadata": {},
   "outputs": [],
   "source": [
    "# LZ Hamiltonian\n",
    "def H(t, ta, Delta):\n",
    "    return -0.5 * np.array([[t / ta, Delta], [Delta, -t / ta]])"
   ]
  },
  {
   "cell_type": "markdown",
   "id": "9d3bc12d",
   "metadata": {},
   "source": [
    "### Time Evolution Simulation\n",
    "In order to approximate the time evolution of a qubit according to the LZ Hamiltonian using a digital quantum computer, it is necessary to perform a discretization of the time evolution operator. Dividing the total time interval $t_f-t_i$ in $N_t$ points, the Hamiltonian can be evaluated in each point and the qubit is evolved as in a time independent case for a small interval $dt = (t_f-t_i)/N_t$ (i.e. the size of the steps).\n",
    "\n",
    "<img src=\"KZM_2.png\" alt=\"Drawing\" style=\"width: 600px;\"/>\n",
    "\n",
    "Each exponential operator from the time independent cases can be included to the quantum circuit to simulate the time evolution as a product of unitary gates\n",
    "\n",
    "$$\\hat{U}(t,t_i) \\approx \\prod_{k=0}^{N-1}e^{-i\\hat{H}_kdt},$$\n",
    "\n",
    "where $\\hat{H}_k = \\hat{H}(t_i + kdt).$\n",
    "\n",
    "### Measurement Calibration\n",
    "Readout errors are one of the main sources of noise in the experimental probabilities obtained. The results can be corrected using a calibration matrix $\\mathbf{A}$ which can be obtained from the backend properties:\n",
    "\n",
    "* prob_meas1_prep0: probability of preparing state $|0\\rangle$ and measuring state $|1\\rangle$.\n",
    "* prob_meas0_prep1: probability of preparing state $|1\\rangle$ and measuring state $|0\\rangle$.\n",
    "\n",
    "Given a vector of noisy probabilities $\\mathbf{P}_{\\text{noisy}}$ representing the experimental readouts and a vector of ideal probabilities $\\mathbf{P}_{\\text{ideal}}$\n",
    "\n",
    "$$\\mathbf{P}_{\\text{noisy}} = \\mathbf{A}\\mathbf{P}_{\\text{ideal}}$$\n",
    "\n",
    "where\n",
    "\n",
    "$$\\mathbf{A} = \\pmatrix{1-\\text{prob_meas1_prep0} & \\text{prob_meas0_prep1}\\\\ \\text{prob_meas1_prep0} & 1-\\text{prob_meas0_prep1}}$$\n",
    "\n",
    "finally, ideal probabilities can be recovered by inverting the calibration matrix\n",
    "\n",
    "$$\\mathbf{P}_{\\text{ideal}} = \\mathbf{A}^{-1}\\mathbf{P}_{\\text{noisy}}$$"
   ]
  },
  {
   "cell_type": "markdown",
   "id": "0fcec66d",
   "metadata": {},
   "source": [
    "### Useful Functions"
   ]
  },
  {
   "cell_type": "code",
   "execution_count": 6,
   "id": "e9e68127",
   "metadata": {},
   "outputs": [],
   "source": [
    "def initGroundState(ti, ta, Delta):\n",
    "    \"\"\"\n",
    "    initGroundState computes the instantaneous lower energy eigenstate of the LZ Hamiltonian\n",
    "    \n",
    "    Parameters\n",
    "    ----------\n",
    "    ti            Initial simulation time\n",
    "    ta            Annealing time\n",
    "    Delta         Energy gap at t=0\n",
    "    \n",
    "    Returns\n",
    "    -------\n",
    "    initState     Initial ground state\n",
    "    \n",
    "    \"\"\"\n",
    "    \n",
    "    Htemp = H(ti, ta = ta, Delta = Delta)\n",
    "        \n",
    "    eigVal = scipy.linalg.eigvals(Htemp)\n",
    "    eigVec = scipy.linalg.eig(Htemp, left=False, right=True)[1]\n",
    "\n",
    "    indBaseState = np.argmin(eigVal)\n",
    "    initState = eigVec[:, indBaseState]\n",
    "    \n",
    "    return initState\n",
    "\n",
    "def counts2probability(counts, target):\n",
    "    \"\"\"\n",
    "    counts2probability computes the probabilities for a given target qubit\n",
    "    \n",
    "    Parameters\n",
    "    ----------\n",
    "    counts        IBM Results count structure\n",
    "    target        Target qubit\n",
    "    \n",
    "    Returns\n",
    "    -------\n",
    "    probability   Experimental probability vector\n",
    "    \n",
    "    \"\"\"\n",
    "    \n",
    "    global shots, props\n",
    "    n_qubits =  len(props.qubits)\n",
    "    \n",
    "    lst = np.asarray(list(itertools.product([0, 1], repeat=n_qubits)))\n",
    "    ind = np.where(lst[:, n_qubits - target - 1] == 0)[0]\n",
    "    \n",
    "    shots_zero = 0\n",
    "    \n",
    "    for num in ind:\n",
    "        if isinstance(counts.get(str(hex(num))), int):\n",
    "            shots_zero = shots_zero + counts.get(str(hex(num)))\n",
    "    \n",
    "    probability = (1 / shots) * np.array([shots_zero, shots - shots_zero])\n",
    "    \n",
    "    return probability\n",
    "\n",
    "def getCalMatrix(backend, target):\n",
    "    \"\"\"\n",
    "    getCalMatrix obtains de calibration matrix for the target qubit of the specified backend\n",
    "    \n",
    "    Parameters\n",
    "    ----------\n",
    "    backend       IBM backend\n",
    "    target        Target qubit\n",
    "    \n",
    "    Returns\n",
    "    -------\n",
    "    calMatrix     Calibration matrix\n",
    "    \n",
    "    \"\"\"\n",
    "    \n",
    "    global props\n",
    "    \n",
    "    qi = props.qubits[target]\n",
    "            \n",
    "    # Set Calibration Matrices\n",
    "    p01 = qi[5].value\n",
    "    p10 = qi[6].value\n",
    "    calMatrix = np.array([[1-p10, p01], [p10, 1 - p01]])\n",
    "    \n",
    "    return calMatrix\n",
    "\n",
    "def calibrateProbability(backend, target, probability):\n",
    "    \"\"\"\n",
    "    calibrateProbability calculates the calibrated probability using the calibration matrix\n",
    "    \n",
    "    Parameters\n",
    "    ----------\n",
    "    backend            IBM backend\n",
    "    target             Target qubit\n",
    "    probability        Experimental probability vector\n",
    "    \n",
    "    Returns\n",
    "    -------\n",
    "    calProbability     Calibrated probability\n",
    "    \n",
    "    \"\"\"\n",
    "    \n",
    "    calProbability = getCalMatrix(backend, target) @ probability\n",
    "    \n",
    "    return calProbability"
   ]
  },
  {
   "cell_type": "markdown",
   "id": "c3e456a3",
   "metadata": {},
   "source": [
    "## Run Experiment"
   ]
  },
  {
   "cell_type": "code",
   "execution_count": 7,
   "id": "bfc008c5",
   "metadata": {},
   "outputs": [],
   "source": [
    "# IBM backend and properties\n",
    "backend_name = 'ibmq_quito'\n",
    "\n",
    "backend = provider.get_backend(backend_name)\n",
    "# backend = Aer.get_backend('qasm_simulator')\n",
    "props = backend.properties()"
   ]
  },
  {
   "cell_type": "code",
   "execution_count": 8,
   "id": "ed015845",
   "metadata": {},
   "outputs": [],
   "source": [
    "# Target qubit\n",
    "target = 2\n",
    "\n",
    "# Shots per datapoint\n",
    "shots = 5000"
   ]
  },
  {
   "cell_type": "code",
   "execution_count": 9,
   "id": "d9995ef7",
   "metadata": {},
   "outputs": [],
   "source": [
    "# LZ Hamiltonian parameters\n",
    "ta = 1      # Annealing time\n",
    "Delta = 1   # Energy gap\n",
    "\n",
    "# Time evolution parameters\n",
    "ti = 0      \n",
    "tf = 10     \n",
    "Nt = 5     \n",
    "\n",
    "dt = (tf - ti) / Nt # Time step\n",
    "t = np.linspace(ti, tf, Nt) # Time vector"
   ]
  },
  {
   "cell_type": "code",
   "execution_count": null,
   "id": "42869e7b",
   "metadata": {},
   "outputs": [
    {
     "name": "stdout",
     "output_type": "stream",
     "text": [
      "1 / 5\n",
      "Job Status: job is queued (14)    "
     ]
    }
   ],
   "source": [
    "# Initial eigenstate calculation\n",
    "initState = initGroundState(ti, ta, Delta)\n",
    "\n",
    "# Initialize probability lists\n",
    "Praw = []\n",
    "Pcal = []\n",
    "    \n",
    "for N in range(Nt):\n",
    "    # Show progress\n",
    "    clear_output(wait=True)\n",
    "    print(N+1, '/', Nt)\n",
    "    \n",
    "    # Create quantum circuit\n",
    "    qr = QuantumRegister(len(props.qubits), name = 'q')\n",
    "    cr = ClassicalRegister(len(props.qubits), name = 'c')\n",
    "    circuit = QuantumCircuit(qr, cr)\n",
    "    \n",
    "    # Qubit Initial States\n",
    "    circuit.initialize(initState, target)\n",
    "    circuit.barrier()\n",
    "    \n",
    "    # Add Time Evolution Gates\n",
    "    for k in range(N):\n",
    "        tk = ti + k * dt\n",
    "        Hk = H(tk, ta = ta, Delta = Delta)\n",
    "        dU = scipy.linalg.expm(-1j * Hk * dt)\n",
    "        circuit.unitary(dU, qr[target])\n",
    "        circuit.barrier()\n",
    "        \n",
    "    # Add measurement\n",
    "    circuit.measure(qr, cr)\n",
    "    \n",
    "    # Run on IBM Quantum\n",
    "    job = execute(circuit, backend=backend, shots=shots)\n",
    "    job_monitor(job)\n",
    "    \n",
    "    # Experiment Results\n",
    "    result = job.result()\n",
    "    counts = result.data().get('counts')\n",
    "    \n",
    "    # Raw experimental probability\n",
    "    Pexp = counts2probability(counts, target)\n",
    "    Praw.append(Pexp)\n",
    "    \n",
    "    # Calibrated experimental probability\n",
    "    P = calibrateProbability(backend, target, probability=Pexp)\n",
    "    Pcal.append(P)"
   ]
  },
  {
   "cell_type": "code",
   "execution_count": null,
   "id": "f66cdde7",
   "metadata": {},
   "outputs": [],
   "source": []
  }
 ],
 "metadata": {
  "kernelspec": {
   "display_name": "Python 3 (ipykernel)",
   "language": "python",
   "name": "python3"
  },
  "language_info": {
   "codemirror_mode": {
    "name": "ipython",
    "version": 3
   },
   "file_extension": ".py",
   "mimetype": "text/x-python",
   "name": "python",
   "nbconvert_exporter": "python",
   "pygments_lexer": "ipython3",
   "version": "3.9.12"
  }
 },
 "nbformat": 4,
 "nbformat_minor": 5
}
